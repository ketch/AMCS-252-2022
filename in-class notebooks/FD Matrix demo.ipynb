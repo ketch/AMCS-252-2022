{
 "cells": [
  {
   "cell_type": "code",
   "execution_count": null,
   "metadata": {},
   "outputs": [],
   "source": [
    "%matplotlib inline\n",
    "import numpy as np\n",
    "import matplotlib.pyplot as plt"
   ]
  },
  {
   "cell_type": "code",
   "execution_count": null,
   "metadata": {},
   "outputs": [],
   "source": [
    "def A_matrix_full(m):\n",
    "    em = np.ones(m+2)\n",
    "    e1=np.ones(m+1)\n",
    "    A = (np.diag(-2*em,0)+np.diag(e1,-1)+np.diag(e1,1))*(m+1)**2\n",
    "    A[0,0] = 1.; A[0,1]=0.; A[-1,-1]=1.; A[-1,-2]=0.\n",
    "    return A"
   ]
  },
  {
   "cell_type": "code",
   "execution_count": null,
   "metadata": {},
   "outputs": [],
   "source": [
    "m=9\n",
    "h = 1./(m+1)\n",
    "x = np.linspace(0,1,m+2)\n",
    "A=A_matrix_full(m)\n",
    "print(A)"
   ]
  },
  {
   "cell_type": "code",
   "execution_count": null,
   "metadata": {},
   "outputs": [],
   "source": [
    "B = np.linalg.inv(A)\n",
    "plt.plot(x,B[:,3]/h)"
   ]
  },
  {
   "cell_type": "code",
   "execution_count": null,
   "metadata": {},
   "outputs": [],
   "source": [
    "for j in range(1,m+1):\n",
    "    plt.plot(x,B[:,j]/h)"
   ]
  },
  {
   "cell_type": "code",
   "execution_count": null,
   "metadata": {},
   "outputs": [],
   "source": [
    "plt.plot(x,B[:,0])"
   ]
  },
  {
   "cell_type": "code",
   "execution_count": null,
   "metadata": {},
   "outputs": [],
   "source": [
    "plt.plot(x,B[:,-1],'o')"
   ]
  },
  {
   "cell_type": "code",
   "execution_count": null,
   "metadata": {},
   "outputs": [],
   "source": [
    "def A_matrix(m):\n",
    "    em = np.ones(m)\n",
    "    e1=np.ones(m-1)\n",
    "    return (np.diag(-2*em,0)+np.diag(e1,-1)+np.diag(e1,1))*(m+1)**2"
   ]
  },
  {
   "cell_type": "code",
   "execution_count": null,
   "metadata": {},
   "outputs": [],
   "source": [
    "for m in(9,99,999):\n",
    "    B = np.linalg.inv(A_matrix(m))\n",
    "    #print(np.max(np.abs(B)))\n",
    "    print(np.max(np.abs(np.linalg.eigvals(B))))"
   ]
  },
  {
   "cell_type": "code",
   "execution_count": null,
   "metadata": {},
   "outputs": [],
   "source": [
    "print(1./np.pi**2)"
   ]
  },
  {
   "cell_type": "code",
   "execution_count": null,
   "metadata": {},
   "outputs": [],
   "source": [
    "m=50\n",
    "A=A_matrix(m)\n",
    "[lamda,u]=np.linalg.eig(A)\n",
    "ind = np.argsort(abs(lamda))\n",
    "spectrum = lamda[ind]\n",
    "print('Eigenvalues: ', spectrum)\n",
    "B = np.linalg.inv(A)\n",
    "print('Norm of A^{-1}:', np.linalg.norm(B,2))\n",
    "\n",
    "# sort the eigenvectors too\n",
    "v=np.zeros(np.shape(u))\n",
    "for i in range(len(ind)):\n",
    "    v[:,i]=u[:,ind[i]]"
   ]
  },
  {
   "cell_type": "code",
   "execution_count": null,
   "metadata": {},
   "outputs": [],
   "source": [
    "from ipywidgets import interact, widgets\n",
    "\n",
    "def plot_eigenvector(p):\n",
    "    x=np.linspace(0,1,m+2)\n",
    "    plt.clf()\n",
    "    plt.plot(x[1:-1],v[:,p])\n",
    "    plt.title('Eigenvector $u^{'+str(p)+'}$, corresponding to eigenvalue $\\lambda^{'+str(p)+'}='+str(spectrum[p])+'$')"
   ]
  },
  {
   "cell_type": "code",
   "execution_count": null,
   "metadata": {},
   "outputs": [],
   "source": [
    "interact(plot_eigenvector, p=widgets.IntSlider(min=0,max=m-1,value=0));"
   ]
  },
  {
   "cell_type": "code",
   "execution_count": null,
   "metadata": {},
   "outputs": [],
   "source": []
  }
 ],
 "metadata": {
  "kernelspec": {
   "display_name": "Python 3",
   "language": "python",
   "name": "python3"
  },
  "language_info": {
   "codemirror_mode": {
    "name": "ipython",
    "version": 3
   },
   "file_extension": ".py",
   "mimetype": "text/x-python",
   "name": "python",
   "nbconvert_exporter": "python",
   "pygments_lexer": "ipython3",
   "version": "3.6.5"
  },
  "toc": {
   "base_numbering": 1,
   "nav_menu": {},
   "number_sections": true,
   "sideBar": true,
   "skip_h1_title": false,
   "title_cell": "Table of Contents",
   "title_sidebar": "Contents",
   "toc_cell": false,
   "toc_position": {},
   "toc_section_display": true,
   "toc_window_display": false
  }
 },
 "nbformat": 4,
 "nbformat_minor": 4
}
